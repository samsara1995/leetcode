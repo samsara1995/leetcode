{
  "nbformat": 4,
  "nbformat_minor": 0,
  "metadata": {
    "colab": {
      "name": "Untitled2.ipynb",
      "provenance": [],
      "include_colab_link": true
    },
    "kernelspec": {
      "name": "python3",
      "display_name": "Python 3"
    },
    "language_info": {
      "name": "python"
    }
  },
  "cells": [
    {
      "cell_type": "markdown",
      "metadata": {
        "id": "view-in-github",
        "colab_type": "text"
      },
      "source": [
        "<a href=\"https://colab.research.google.com/github/samsara1995/leetcode/blob/master/quant.ipynb\" target=\"_parent\"><img src=\"https://colab.research.google.com/assets/colab-badge.svg\" alt=\"Open In Colab\"/></a>"
      ]
    },
    {
      "cell_type": "code",
      "metadata": {
        "id": "IZ1Im0_ro1fH"
      },
      "source": [
        "import numpy as np"
      ],
      "execution_count": null,
      "outputs": []
    },
    {
      "cell_type": "code",
      "metadata": {
        "id": "bwNP2Z65pDCN"
      },
      "source": [
        "xmin=1.\n",
        "xmax=2."
      ],
      "execution_count": null,
      "outputs": []
    },
    {
      "cell_type": "code",
      "metadata": {
        "id": "rjVVjpcVpJjM"
      },
      "source": [
        "s=np.linspace(xmin,xmax,256)"
      ],
      "execution_count": null,
      "outputs": []
    },
    {
      "cell_type": "code",
      "metadata": {
        "colab": {
          "base_uri": "https://localhost:8080/"
        },
        "id": "rNEoAsLKpSQ2",
        "outputId": "174a04dd-49d5-4237-dd69-e3ace11dcd71"
      },
      "source": [
        "s"
      ],
      "execution_count": null,
      "outputs": [
        {
          "output_type": "execute_result",
          "data": {
            "text/plain": [
              "array([1.        , 1.00392157, 1.00784314, 1.01176471, 1.01568627,\n",
              "       1.01960784, 1.02352941, 1.02745098, 1.03137255, 1.03529412,\n",
              "       1.03921569, 1.04313725, 1.04705882, 1.05098039, 1.05490196,\n",
              "       1.05882353, 1.0627451 , 1.06666667, 1.07058824, 1.0745098 ,\n",
              "       1.07843137, 1.08235294, 1.08627451, 1.09019608, 1.09411765,\n",
              "       1.09803922, 1.10196078, 1.10588235, 1.10980392, 1.11372549,\n",
              "       1.11764706, 1.12156863, 1.1254902 , 1.12941176, 1.13333333,\n",
              "       1.1372549 , 1.14117647, 1.14509804, 1.14901961, 1.15294118,\n",
              "       1.15686275, 1.16078431, 1.16470588, 1.16862745, 1.17254902,\n",
              "       1.17647059, 1.18039216, 1.18431373, 1.18823529, 1.19215686,\n",
              "       1.19607843, 1.2       , 1.20392157, 1.20784314, 1.21176471,\n",
              "       1.21568627, 1.21960784, 1.22352941, 1.22745098, 1.23137255,\n",
              "       1.23529412, 1.23921569, 1.24313725, 1.24705882, 1.25098039,\n",
              "       1.25490196, 1.25882353, 1.2627451 , 1.26666667, 1.27058824,\n",
              "       1.2745098 , 1.27843137, 1.28235294, 1.28627451, 1.29019608,\n",
              "       1.29411765, 1.29803922, 1.30196078, 1.30588235, 1.30980392,\n",
              "       1.31372549, 1.31764706, 1.32156863, 1.3254902 , 1.32941176,\n",
              "       1.33333333, 1.3372549 , 1.34117647, 1.34509804, 1.34901961,\n",
              "       1.35294118, 1.35686275, 1.36078431, 1.36470588, 1.36862745,\n",
              "       1.37254902, 1.37647059, 1.38039216, 1.38431373, 1.38823529,\n",
              "       1.39215686, 1.39607843, 1.4       , 1.40392157, 1.40784314,\n",
              "       1.41176471, 1.41568627, 1.41960784, 1.42352941, 1.42745098,\n",
              "       1.43137255, 1.43529412, 1.43921569, 1.44313725, 1.44705882,\n",
              "       1.45098039, 1.45490196, 1.45882353, 1.4627451 , 1.46666667,\n",
              "       1.47058824, 1.4745098 , 1.47843137, 1.48235294, 1.48627451,\n",
              "       1.49019608, 1.49411765, 1.49803922, 1.50196078, 1.50588235,\n",
              "       1.50980392, 1.51372549, 1.51764706, 1.52156863, 1.5254902 ,\n",
              "       1.52941176, 1.53333333, 1.5372549 , 1.54117647, 1.54509804,\n",
              "       1.54901961, 1.55294118, 1.55686275, 1.56078431, 1.56470588,\n",
              "       1.56862745, 1.57254902, 1.57647059, 1.58039216, 1.58431373,\n",
              "       1.58823529, 1.59215686, 1.59607843, 1.6       , 1.60392157,\n",
              "       1.60784314, 1.61176471, 1.61568627, 1.61960784, 1.62352941,\n",
              "       1.62745098, 1.63137255, 1.63529412, 1.63921569, 1.64313725,\n",
              "       1.64705882, 1.65098039, 1.65490196, 1.65882353, 1.6627451 ,\n",
              "       1.66666667, 1.67058824, 1.6745098 , 1.67843137, 1.68235294,\n",
              "       1.68627451, 1.69019608, 1.69411765, 1.69803922, 1.70196078,\n",
              "       1.70588235, 1.70980392, 1.71372549, 1.71764706, 1.72156863,\n",
              "       1.7254902 , 1.72941176, 1.73333333, 1.7372549 , 1.74117647,\n",
              "       1.74509804, 1.74901961, 1.75294118, 1.75686275, 1.76078431,\n",
              "       1.76470588, 1.76862745, 1.77254902, 1.77647059, 1.78039216,\n",
              "       1.78431373, 1.78823529, 1.79215686, 1.79607843, 1.8       ,\n",
              "       1.80392157, 1.80784314, 1.81176471, 1.81568627, 1.81960784,\n",
              "       1.82352941, 1.82745098, 1.83137255, 1.83529412, 1.83921569,\n",
              "       1.84313725, 1.84705882, 1.85098039, 1.85490196, 1.85882353,\n",
              "       1.8627451 , 1.86666667, 1.87058824, 1.8745098 , 1.87843137,\n",
              "       1.88235294, 1.88627451, 1.89019608, 1.89411765, 1.89803922,\n",
              "       1.90196078, 1.90588235, 1.90980392, 1.91372549, 1.91764706,\n",
              "       1.92156863, 1.9254902 , 1.92941176, 1.93333333, 1.9372549 ,\n",
              "       1.94117647, 1.94509804, 1.94901961, 1.95294118, 1.95686275,\n",
              "       1.96078431, 1.96470588, 1.96862745, 1.97254902, 1.97647059,\n",
              "       1.98039216, 1.98431373, 1.98823529, 1.99215686, 1.99607843,\n",
              "       2.        ])"
            ]
          },
          "metadata": {
            "tags": []
          },
          "execution_count": 4
        }
      ]
    },
    {
      "cell_type": "code",
      "metadata": {
        "id": "SpecrqeQpSxG"
      },
      "source": [
        "value=np.exp(s)"
      ],
      "execution_count": null,
      "outputs": []
    },
    {
      "cell_type": "code",
      "metadata": {
        "id": "9DdvOzCSpWkV"
      },
      "source": [
        "vm=value.max()"
      ],
      "execution_count": null,
      "outputs": []
    },
    {
      "cell_type": "code",
      "metadata": {
        "id": "kWEatuySpXol"
      },
      "source": [
        "scale=(256*256-1)/vm"
      ],
      "execution_count": null,
      "outputs": []
    },
    {
      "cell_type": "code",
      "metadata": {
        "id": "rIdz862_plX3"
      },
      "source": [
        "qvalue=scale*value"
      ],
      "execution_count": null,
      "outputs": []
    },
    {
      "cell_type": "code",
      "metadata": {
        "id": "J3omWO8wpp_G"
      },
      "source": [
        "lut=qvalue.astype(np.uint16)"
      ],
      "execution_count": null,
      "outputs": []
    },
    {
      "cell_type": "code",
      "metadata": {
        "id": "do3DmlHhpqyu"
      },
      "source": [
        "a=1000"
      ],
      "execution_count": null,
      "outputs": []
    },
    {
      "cell_type": "code",
      "metadata": {
        "id": "Ni5LEFSrqEcw"
      },
      "source": [
        "h8=int(a/256)\n",
        "l8=a-h8*256"
      ],
      "execution_count": null,
      "outputs": []
    },
    {
      "cell_type": "code",
      "metadata": {
        "id": "Bp92wzwGqQ-_"
      },
      "source": [
        "lut[3]+lut[4]"
      ],
      "execution_count": null,
      "outputs": []
    },
    {
      "cell_type": "code",
      "metadata": {
        "colab": {
          "base_uri": "https://localhost:8080/"
        },
        "id": "nXorafTZqfep",
        "outputId": "a5d9323e-704f-4f0a-bb3c-238c617613b6"
      },
      "source": [
        "h8,l8"
      ],
      "execution_count": null,
      "outputs": [
        {
          "output_type": "execute_result",
          "data": {
            "text/plain": [
              "(3, 232)"
            ]
          },
          "metadata": {
            "tags": []
          },
          "execution_count": 30
        }
      ]
    },
    {
      "cell_type": "code",
      "metadata": {
        "colab": {
          "base_uri": "https://localhost:8080/"
        },
        "id": "4ETBdOhYqgu4",
        "outputId": "f339cdcb-4d6c-425e-8148-08e8ec496c26"
      },
      "source": [
        "lut[3]+(lut[4]-lut[3])*l8/256"
      ],
      "execution_count": null,
      "outputs": [
        {
          "output_type": "execute_result",
          "data": {
            "text/plain": [
              "24481.0"
            ]
          },
          "metadata": {
            "tags": []
          },
          "execution_count": 31
        }
      ]
    },
    {
      "cell_type": "code",
      "metadata": {
        "id": "jVqJOqXErITr",
        "colab": {
          "base_uri": "https://localhost:8080/"
        },
        "outputId": "47ee52f2-a6cb-456e-a0b1-78312f4a25ea"
      },
      "source": [
        "lut[4],lut[3]"
      ],
      "execution_count": null,
      "outputs": [
        {
          "output_type": "execute_result",
          "data": {
            "text/plain": [
              "(24490, 24394)"
            ]
          },
          "metadata": {
            "tags": []
          },
          "execution_count": 33
        }
      ]
    },
    {
      "cell_type": "code",
      "metadata": {
        "id": "ys_SomiHrKUj"
      },
      "source": [
        ""
      ],
      "execution_count": null,
      "outputs": []
    }
  ]
}